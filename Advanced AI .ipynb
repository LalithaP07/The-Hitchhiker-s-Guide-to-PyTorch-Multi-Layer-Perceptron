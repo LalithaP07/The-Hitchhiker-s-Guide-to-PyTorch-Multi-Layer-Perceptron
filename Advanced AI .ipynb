{
 "cells": [
  {
   "cell_type": "code",
   "execution_count": null,
   "id": "cf1e4dd1",
   "metadata": {},
   "outputs": [],
   "source": []
  },
  {
   "cell_type": "code",
   "execution_count": null,
   "id": "71333019",
   "metadata": {},
   "outputs": [],
   "source": []
  },
  {
   "cell_type": "markdown",
   "id": "644a0763",
   "metadata": {},
   "source": [
    "# Advanced Artificial Intelligence Extra credit project\n",
    "\n",
    "Lalitha Priya Bijja - 101168225"
   ]
  },
  {
   "cell_type": "code",
   "execution_count": null,
   "id": "d192caa5",
   "metadata": {},
   "outputs": [],
   "source": [
    "import torch\n",
    "import torch.nn as nn\n",
    "import torch.optim as optim\n",
    "import torch.nn.functional as f\n",
    "from torch.utils.data import DataLoader, SubsetRandomSampler\n",
    "from torchvision import datasets, transforms\n",
    "import time"
   ]
  },
  {
   "cell_type": "code",
   "execution_count": 3,
   "id": "1dd2be1f",
   "metadata": {},
   "outputs": [],
   "source": [
    "BATCH_SIZE = 64\n",
    "NUM_EPOCHS = 20\n",
    "DEVICE = torch.device('cuda:0' if torch.cuda.is_available() else 'cpu')"
   ]
  },
  {
   "cell_type": "code",
   "execution_count": 4,
   "id": "78e60f58",
   "metadata": {},
   "outputs": [],
   "source": [
    "transform = transforms.Compose([transforms.ToTensor(), transforms.Normalize((0.5,), (0.5,))])\n",
    "train_dataset = datasets.MNIST(root='./data', train=True, download=True, transform=transform)\n",
    "valid_dataset = datasets.MNIST(root='./data', train=True, transform=transform)\n",
    "test_dataset = datasets.MNIST(root='./data', train=False, transform=transform)"
   ]
  },
  {
   "cell_type": "code",
   "execution_count": 5,
   "id": "d68dbb26",
   "metadata": {},
   "outputs": [],
   "source": [
    "validation_fraction = 0.1"
   ]
  },
  {
   "cell_type": "code",
   "execution_count": 6,
   "id": "88c55a9c",
   "metadata": {},
   "outputs": [],
   "source": [
    "num = int(validation_fraction * 60000) \n",
    "train_indices = torch.arange(0, 60000 - num)\n",
    "valid_indices = torch.arange(60000 - num, 60000)"
   ]
  },
  {
   "cell_type": "code",
   "execution_count": 7,
   "id": "385b1597",
   "metadata": {},
   "outputs": [],
   "source": [
    "train_sampler = SubsetRandomSampler(train_indices)\n",
    "valid_sampler = SubsetRandomSampler(valid_indices)"
   ]
  },
  {
   "cell_type": "code",
   "execution_count": 8,
   "id": "731269da",
   "metadata": {},
   "outputs": [],
   "source": [
    "train_loader = DataLoader(dataset=train_dataset, batch_size=BATCH_SIZE, drop_last=True, sampler=train_sampler)\n",
    "valid_loader = DataLoader(dataset=valid_dataset, batch_size=BATCH_SIZE, sampler=valid_sampler)\n",
    "test_loader = DataLoader(dataset=test_dataset, batch_size=BATCH_SIZE, shuffle=False)"
   ]
  },
  {
   "cell_type": "code",
   "execution_count": 9,
   "id": "ac904281",
   "metadata": {},
   "outputs": [
    {
     "name": "stdout",
     "output_type": "stream",
     "text": [
      "Image batch dimensions: torch.Size([64, 1, 28, 28])\n",
      "Image label dimensions: torch.Size([64])\n"
     ]
    }
   ],
   "source": [
    "# Checking the dataset\n",
    "for images, labels in train_loader: \n",
    "    print('Image batch dimensions:', images.shape)\n",
    "    print('Image label dimensions:', labels.shape)\n",
    "    break"
   ]
  },
  {
   "cell_type": "code",
   "execution_count": 10,
   "id": "c2ed9b90",
   "metadata": {},
   "outputs": [
    {
     "data": {
      "image/png": "[encoded data removed]",
      "text/plain": [
       "<Figure size 720x720 with 25 Axes>"
      ]
     },
     "metadata": {
      "needs_background": "light"
     },
     "output_type": "display_data"
    }
   ],
   "source": [
    "import matplotlib.pyplot as plt\n",
    "# Display a grid of sample images\n",
    "plt.figure(figsize=(10, 10))\n",
    "for i, (images, labels) in enumerate(train_loader):\n",
    "    for j in range(25):\n",
    "        plt.subplot(5, 5, j + 1)\n",
    "        plt.imshow(images[j].squeeze(), cmap='gray')\n",
    "        plt.axis('off')\n",
    "    break\n",
    "plt.show()"
   ]
  },
  {
   "cell_type": "code",
   "execution_count": 19,
   "id": "1e4363e3",
   "metadata": {},
   "outputs": [],
   "source": [
    "class MLP(nn.Module):\n",
    "    def __init__(self, num_features, num_hidden_1, num_hidden_2, num_classes):\n",
    "        super().__init__()\n",
    "        self.network = torch.nn.Sequential(\n",
    "            # 1st hidden layer\n",
    "            torch.nn.Flatten(),\n",
    "            torch.nn.Linear(num_features, num_hidden_1),\n",
    "            torch.nn.BatchNorm1d(num_hidden_1),\n",
    "            torch.nn.ReLU(),\n",
    "            torch.nn.Dropout(0.5),\n",
    "            # 2nd hidden layer\n",
    "            torch.nn.Linear(num_hidden_1, num_hidden_2),\n",
    "            torch.nn.BatchNorm1d(num_hidden_2),\n",
    "            torch.nn.ReLU(),\n",
    "            torch.nn.Dropout(0.3),\n",
    "            # output layer\n",
    "            torch.nn.Linear(num_hidden_2, num_classes)\n",
    "        )\n",
    "    def forward(self, x):\n",
    "        logits = self.network(x)\n",
    "        return logits"
   ]
  },
  {
   "cell_type": "code",
   "execution_count": 20,
   "id": "10820cb2",
   "metadata": {},
   "outputs": [],
   "source": [
    "model = MLP(num_features=28*28, num_hidden_1=128, num_hidden_2=64, num_classes=10)\n",
    "model = model.to(DEVICE)\n",
    "criterion = nn.CrossEntropyLoss()\n",
    "optimizer = torch.optim.SGD(model.parameters(), lr=0.1, momentum=0.9, weight_decay=0.0001)\n",
    "scheduler = torch.optim.lr_scheduler.ReduceLROnPlateau(optimizer, factor=0.1, mode='min')"
   ]
  },
  {
   "cell_type": "code",
   "execution_count": 21,
   "id": "1a018be3",
   "metadata": {},
   "outputs": [],
   "source": [
    "# Define your optimizer (using Adam)\n",
    "optimizer = optim.Adam(model.parameters(), lr=0.001)"
   ]
  },
  {
   "cell_type": "code",
   "execution_count": 22,
   "id": "26ef2020",
   "metadata": {},
   "outputs": [],
   "source": [
    "# Create the scheduler with step decay\n",
    "scheduler = torch.optim.lr_scheduler.StepLR(optimizer, step_size=30, gamma=0.1)"
   ]
  },
  {
   "cell_type": "code",
   "execution_count": 23,
   "id": "4df7a305",
   "metadata": {},
   "outputs": [],
   "source": [
    "# Create the scheduler with exponential decay\n",
    "scheduler = torch.optim.lr_scheduler.ExponentialLR(optimizer, gamma=0.95)"
   ]
  },
  {
   "cell_type": "code",
   "execution_count": 24,
   "id": "a154dd60",
   "metadata": {},
   "outputs": [],
   "source": [
    "def compute_accuracy(data_loader):\n",
    "    with torch.no_grad():\n",
    "        correct_pred, num_examples = 0, 0\n",
    "        for i, (features, targets) in enumerate(data_loader):\n",
    "            features = features.to(DEVICE)\n",
    "            targets = targets.float().to(DEVICE)\n",
    "            logits = model(features)\n",
    "            _, predicted_labels = torch.max(logits, 1)\n",
    "            num_examples += targets.size(0)\n",
    "            correct_pred += (predicted_labels == targets).sum()\n",
    "    return correct_pred.float()/num_examples * 100"
   ]
  },
  {
   "cell_type": "code",
   "execution_count": 25,
   "id": "bd2a4a02",
   "metadata": {},
   "outputs": [
    {
     "name": "stdout",
     "output_type": "stream",
     "text": [
      "Epoch:  1 / 20 | Batch  0 / 843 | Loss: 2.4323\n",
      "Epoch:  1 / 20 | Batch  100 / 843 | Loss: 0.6755\n",
      "Epoch:  1 / 20 | Batch  200 / 843 | Loss: 0.6165\n",
      "Epoch:  1 / 20 | Batch  300 / 843 | Loss: 0.3568\n",
      "Epoch:  1 / 20 | Batch  400 / 843 | Loss: 0.3803\n",
      "Epoch:  1 / 20 | Batch  500 / 843 | Loss: 0.3633\n",
      "Epoch:  1 / 20 | Batch  600 / 843 | Loss: 0.3493\n",
      "Epoch:  1 / 20 | Batch  700 / 843 | Loss: 0.2647\n",
      "Epoch:  1 / 20 | Batch  800 / 843 | Loss: 0.1504\n",
      "Epoch:  1 / 20 | Train: 94.62% | Validation: 95.85%\n",
      "Time elapsed:  0.587981907526652  min\n",
      "Epoch:  2 / 20 | Batch  0 / 843 | Loss: 0.5470\n"
     ]
    },
    {
     "name": "stderr",
     "output_type": "stream",
     "text": [
      "C:\\Users\\dasar\\anaconda3\\lib\\site-packages\\torch\\optim\\lr_scheduler.py:156: UserWarning: The epoch parameter in `scheduler.step()` was not necessary and is being deprecated where possible. Please use `scheduler.step()` to step the scheduler. During the deprecation, if epoch is different from None, the closed form is used instead of the new chainable form, where available. Please open an issue if you are unable to replicate your use case: https://github.com/pytorch/pytorch/issues/new/choose.\n",
      "  warnings.warn(EPOCH_DEPRECATION_WARNING, UserWarning)\n"
     ]
    },
    {
     "name": "stdout",
     "output_type": "stream",
     "text": [
      "Epoch:  2 / 20 | Batch  100 / 843 | Loss: 0.1650\n",
      "Epoch:  2 / 20 | Batch  200 / 843 | Loss: 0.1891\n",
      "Epoch:  2 / 20 | Batch  300 / 843 | Loss: 0.3242\n",
      "Epoch:  2 / 20 | Batch  400 / 843 | Loss: 0.3554\n",
      "Epoch:  2 / 20 | Batch  500 / 843 | Loss: 0.3723\n",
      "Epoch:  2 / 20 | Batch  600 / 843 | Loss: 0.3108\n",
      "Epoch:  2 / 20 | Batch  700 / 843 | Loss: 0.1702\n",
      "Epoch:  2 / 20 | Batch  800 / 843 | Loss: 0.2652\n",
      "Epoch:  2 / 20 | Train: 96.05% | Validation: 96.95%\n",
      "Time elapsed:  1.1883620897928873  min\n",
      "Epoch:  3 / 20 | Batch  0 / 843 | Loss: 0.2003\n",
      "Epoch:  3 / 20 | Batch  100 / 843 | Loss: 0.3846\n",
      "Epoch:  3 / 20 | Batch  200 / 843 | Loss: 0.3138\n",
      "Epoch:  3 / 20 | Batch  300 / 843 | Loss: 0.0943\n",
      "Epoch:  3 / 20 | Batch  400 / 843 | Loss: 0.4107\n",
      "Epoch:  3 / 20 | Batch  500 / 843 | Loss: 0.2487\n",
      "Epoch:  3 / 20 | Batch  600 / 843 | Loss: 0.1868\n",
      "Epoch:  3 / 20 | Batch  700 / 843 | Loss: 0.2683\n",
      "Epoch:  3 / 20 | Batch  800 / 843 | Loss: 0.2047\n",
      "Epoch:  3 / 20 | Train: 96.92% | Validation: 97.38%\n",
      "Time elapsed:  1.7781877358754477  min\n",
      "Epoch:  4 / 20 | Batch  0 / 843 | Loss: 0.1577\n",
      "Epoch:  4 / 20 | Batch  100 / 843 | Loss: 0.2844\n",
      "Epoch:  4 / 20 | Batch  200 / 843 | Loss: 0.2099\n",
      "Epoch:  4 / 20 | Batch  300 / 843 | Loss: 0.1568\n",
      "Epoch:  4 / 20 | Batch  400 / 843 | Loss: 0.0887\n",
      "Epoch:  4 / 20 | Batch  500 / 843 | Loss: 0.2639\n",
      "Epoch:  4 / 20 | Batch  600 / 843 | Loss: 0.2841\n",
      "Epoch:  4 / 20 | Batch  700 / 843 | Loss: 0.1558\n",
      "Epoch:  4 / 20 | Batch  800 / 843 | Loss: 0.2715\n",
      "Epoch:  4 / 20 | Train: 97.11% | Validation: 97.20%\n",
      "Time elapsed:  2.3755513072013854  min\n",
      "Epoch:  5 / 20 | Batch  0 / 843 | Loss: 0.4240\n",
      "Epoch:  5 / 20 | Batch  100 / 843 | Loss: 0.2218\n",
      "Epoch:  5 / 20 | Batch  200 / 843 | Loss: 0.2215\n",
      "Epoch:  5 / 20 | Batch  300 / 843 | Loss: 0.1972\n",
      "Epoch:  5 / 20 | Batch  400 / 843 | Loss: 0.2230\n",
      "Epoch:  5 / 20 | Batch  500 / 843 | Loss: 0.1129\n",
      "Epoch:  5 / 20 | Batch  600 / 843 | Loss: 0.0962\n",
      "Epoch:  5 / 20 | Batch  700 / 843 | Loss: 0.4062\n",
      "Epoch:  5 / 20 | Batch  800 / 843 | Loss: 0.0482\n",
      "Epoch:  5 / 20 | Train: 97.65% | Validation: 97.60%\n",
      "Time elapsed:  2.9892166376113893  min\n",
      "Epoch:  6 / 20 | Batch  0 / 843 | Loss: 0.2649\n",
      "Epoch:  6 / 20 | Batch  100 / 843 | Loss: 0.3115\n",
      "Epoch:  6 / 20 | Batch  200 / 843 | Loss: 0.1962\n",
      "Epoch:  6 / 20 | Batch  300 / 843 | Loss: 0.0590\n",
      "Epoch:  6 / 20 | Batch  400 / 843 | Loss: 0.2911\n",
      "Epoch:  6 / 20 | Batch  500 / 843 | Loss: 0.1893\n",
      "Epoch:  6 / 20 | Batch  600 / 843 | Loss: 0.1701\n",
      "Epoch:  6 / 20 | Batch  700 / 843 | Loss: 0.1566\n",
      "Epoch:  6 / 20 | Batch  800 / 843 | Loss: 0.1055\n",
      "Epoch:  6 / 20 | Train: 97.78% | Validation: 97.78%\n",
      "Time elapsed:  3.5828674991925555  min\n",
      "Epoch:  7 / 20 | Batch  0 / 843 | Loss: 0.0919\n",
      "Epoch:  7 / 20 | Batch  100 / 843 | Loss: 0.2746\n",
      "Epoch:  7 / 20 | Batch  200 / 843 | Loss: 0.3005\n",
      "Epoch:  7 / 20 | Batch  300 / 843 | Loss: 0.1336\n",
      "Epoch:  7 / 20 | Batch  400 / 843 | Loss: 0.3018\n",
      "Epoch:  7 / 20 | Batch  500 / 843 | Loss: 0.3280\n",
      "Epoch:  7 / 20 | Batch  600 / 843 | Loss: 0.1689\n",
      "Epoch:  7 / 20 | Batch  700 / 843 | Loss: 0.1197\n",
      "Epoch:  7 / 20 | Batch  800 / 843 | Loss: 0.1555\n",
      "Epoch:  7 / 20 | Train: 97.89% | Validation: 97.70%\n",
      "Time elapsed:  4.174303269386291  min\n",
      "Epoch:  8 / 20 | Batch  0 / 843 | Loss: 0.2412\n",
      "Epoch:  8 / 20 | Batch  100 / 843 | Loss: 0.2286\n",
      "Epoch:  8 / 20 | Batch  200 / 843 | Loss: 0.1896\n",
      "Epoch:  8 / 20 | Batch  300 / 843 | Loss: 0.2471\n",
      "Epoch:  8 / 20 | Batch  400 / 843 | Loss: 0.1167\n",
      "Epoch:  8 / 20 | Batch  500 / 843 | Loss: 0.3506\n",
      "Epoch:  8 / 20 | Batch  600 / 843 | Loss: 0.0964\n",
      "Epoch:  8 / 20 | Batch  700 / 843 | Loss: 0.4902\n",
      "Epoch:  8 / 20 | Batch  800 / 843 | Loss: 0.1762\n",
      "Epoch:  8 / 20 | Train: 98.04% | Validation: 97.85%\n",
      "Time elapsed:  4.7629045963287355  min\n",
      "Epoch:  9 / 20 | Batch  0 / 843 | Loss: 0.1627\n",
      "Epoch:  9 / 20 | Batch  100 / 843 | Loss: 0.2100\n",
      "Epoch:  9 / 20 | Batch  200 / 843 | Loss: 0.1721\n",
      "Epoch:  9 / 20 | Batch  300 / 843 | Loss: 0.1315\n",
      "Epoch:  9 / 20 | Batch  400 / 843 | Loss: 0.3181\n",
      "Epoch:  9 / 20 | Batch  500 / 843 | Loss: 0.1160\n",
      "Epoch:  9 / 20 | Batch  600 / 843 | Loss: 0.1038\n",
      "Epoch:  9 / 20 | Batch  700 / 843 | Loss: 0.1327\n",
      "Epoch:  9 / 20 | Batch  800 / 843 | Loss: 0.0554\n",
      "Epoch:  9 / 20 | Train: 98.25% | Validation: 98.00%\n",
      "Time elapsed:  5.355811405181885  min\n",
      "Epoch:  10 / 20 | Batch  0 / 843 | Loss: 0.0867\n",
      "Epoch:  10 / 20 | Batch  100 / 843 | Loss: 0.3345\n",
      "Epoch:  10 / 20 | Batch  200 / 843 | Loss: 0.0670\n",
      "Epoch:  10 / 20 | Batch  300 / 843 | Loss: 0.1806\n",
      "Epoch:  10 / 20 | Batch  400 / 843 | Loss: 0.2434\n",
      "Epoch:  10 / 20 | Batch  500 / 843 | Loss: 0.2075\n",
      "Epoch:  10 / 20 | Batch  600 / 843 | Loss: 0.1028\n",
      "Epoch:  10 / 20 | Batch  700 / 843 | Loss: 0.2123\n",
      "Epoch:  10 / 20 | Batch  800 / 843 | Loss: 0.1978\n",
      "Epoch:  10 / 20 | Train: 98.26% | Validation: 97.95%\n",
      "Time elapsed:  5.948919594287872  min\n",
      "Epoch:  11 / 20 | Batch  0 / 843 | Loss: 0.1711\n",
      "Epoch:  11 / 20 | Batch  100 / 843 | Loss: 0.1539\n",
      "Epoch:  11 / 20 | Batch  200 / 843 | Loss: 0.0518\n",
      "Epoch:  11 / 20 | Batch  300 / 843 | Loss: 0.2347\n",
      "Epoch:  11 / 20 | Batch  400 / 843 | Loss: 0.0916\n",
      "Epoch:  11 / 20 | Batch  500 / 843 | Loss: 0.2389\n",
      "Epoch:  11 / 20 | Batch  600 / 843 | Loss: 0.1858\n",
      "Epoch:  11 / 20 | Batch  700 / 843 | Loss: 0.2384\n",
      "Epoch:  11 / 20 | Batch  800 / 843 | Loss: 0.1538\n",
      "Epoch:  11 / 20 | Train: 98.40% | Validation: 98.08%\n",
      "Time elapsed:  6.542934469381968  min\n",
      "Epoch:  12 / 20 | Batch  0 / 843 | Loss: 0.1912\n",
      "Epoch:  12 / 20 | Batch  100 / 843 | Loss: 0.1067\n",
      "Epoch:  12 / 20 | Batch  200 / 843 | Loss: 0.2004\n",
      "Epoch:  12 / 20 | Batch  300 / 843 | Loss: 0.0550\n",
      "Epoch:  12 / 20 | Batch  400 / 843 | Loss: 0.1233\n",
      "Epoch:  12 / 20 | Batch  500 / 843 | Loss: 0.1983\n",
      "Epoch:  12 / 20 | Batch  600 / 843 | Loss: 0.2684\n",
      "Epoch:  12 / 20 | Batch  700 / 843 | Loss: 0.1084\n",
      "Epoch:  12 / 20 | Batch  800 / 843 | Loss: 0.1169\n",
      "Epoch:  12 / 20 | Train: 98.54% | Validation: 98.03%\n",
      "Time elapsed:  7.136331005891164  min\n",
      "Epoch:  13 / 20 | Batch  0 / 843 | Loss: 0.2682\n",
      "Epoch:  13 / 20 | Batch  100 / 843 | Loss: 0.1265\n",
      "Epoch:  13 / 20 | Batch  200 / 843 | Loss: 0.1888\n",
      "Epoch:  13 / 20 | Batch  300 / 843 | Loss: 0.2428\n",
      "Epoch:  13 / 20 | Batch  400 / 843 | Loss: 0.0785\n",
      "Epoch:  13 / 20 | Batch  500 / 843 | Loss: 0.1049\n",
      "Epoch:  13 / 20 | Batch  600 / 843 | Loss: 0.0730\n",
      "Epoch:  13 / 20 | Batch  700 / 843 | Loss: 0.1270\n",
      "Epoch:  13 / 20 | Batch  800 / 843 | Loss: 0.1013\n",
      "Epoch:  13 / 20 | Train: 98.55% | Validation: 98.02%\n",
      "Time elapsed:  7.733701157569885  min\n",
      "Epoch:  14 / 20 | Batch  0 / 843 | Loss: 0.1900\n",
      "Epoch:  14 / 20 | Batch  100 / 843 | Loss: 0.0651\n",
      "Epoch:  14 / 20 | Batch  200 / 843 | Loss: 0.0708\n",
      "Epoch:  14 / 20 | Batch  300 / 843 | Loss: 0.2173\n",
      "Epoch:  14 / 20 | Batch  400 / 843 | Loss: 0.1407\n",
      "Epoch:  14 / 20 | Batch  500 / 843 | Loss: 0.1446\n",
      "Epoch:  14 / 20 | Batch  600 / 843 | Loss: 0.0951\n",
      "Epoch:  14 / 20 | Batch  700 / 843 | Loss: 0.1467\n",
      "Epoch:  14 / 20 | Batch  800 / 843 | Loss: 0.0857\n",
      "Epoch:  14 / 20 | Train: 98.59% | Validation: 98.00%\n",
      "Time elapsed:  8.323447914918264  min\n",
      "Epoch:  15 / 20 | Batch  0 / 843 | Loss: 0.1714\n",
      "Epoch:  15 / 20 | Batch  100 / 843 | Loss: 0.2375\n",
      "Epoch:  15 / 20 | Batch  200 / 843 | Loss: 0.0844\n",
      "Epoch:  15 / 20 | Batch  300 / 843 | Loss: 0.1801\n",
      "Epoch:  15 / 20 | Batch  400 / 843 | Loss: 0.1253\n",
      "Epoch:  15 / 20 | Batch  500 / 843 | Loss: 0.1017\n",
      "Epoch:  15 / 20 | Batch  600 / 843 | Loss: 0.1929\n",
      "Epoch:  15 / 20 | Batch  700 / 843 | Loss: 0.2329\n",
      "Epoch:  15 / 20 | Batch  800 / 843 | Loss: 0.1075\n",
      "Epoch:  15 / 20 | Train: 98.65% | Validation: 98.08%\n",
      "Time elapsed:  8.911182709534962  min\n",
      "Epoch:  16 / 20 | Batch  0 / 843 | Loss: 0.0926\n",
      "Epoch:  16 / 20 | Batch  100 / 843 | Loss: 0.1433\n",
      "Epoch:  16 / 20 | Batch  200 / 843 | Loss: 0.2314\n",
      "Epoch:  16 / 20 | Batch  300 / 843 | Loss: 0.2203\n",
      "Epoch:  16 / 20 | Batch  400 / 843 | Loss: 0.1129\n",
      "Epoch:  16 / 20 | Batch  500 / 843 | Loss: 0.1429\n",
      "Epoch:  16 / 20 | Batch  600 / 843 | Loss: 0.0625\n",
      "Epoch:  16 / 20 | Batch  700 / 843 | Loss: 0.1177\n",
      "Epoch:  16 / 20 | Batch  800 / 843 | Loss: 0.2715\n",
      "Epoch:  16 / 20 | Train: 98.75% | Validation: 98.00%\n",
      "Time elapsed:  9.4997705022494  min\n",
      "Epoch:  17 / 20 | Batch  0 / 843 | Loss: 0.2482\n",
      "Epoch:  17 / 20 | Batch  100 / 843 | Loss: 0.0310\n",
      "Epoch:  17 / 20 | Batch  200 / 843 | Loss: 0.1502\n",
      "Epoch:  17 / 20 | Batch  300 / 843 | Loss: 0.1692\n",
      "Epoch:  17 / 20 | Batch  400 / 843 | Loss: 0.0898\n"
     ]
    },
    {
     "name": "stdout",
     "output_type": "stream",
     "text": [
      "Epoch:  17 / 20 | Batch  500 / 843 | Loss: 0.1199\n",
      "Epoch:  17 / 20 | Batch  600 / 843 | Loss: 0.0718\n",
      "Epoch:  17 / 20 | Batch  700 / 843 | Loss: 0.2255\n",
      "Epoch:  17 / 20 | Batch  800 / 843 | Loss: 0.1317\n",
      "Epoch:  17 / 20 | Train: 98.76% | Validation: 98.17%\n",
      "Time elapsed:  10.098923075199128  min\n",
      "Epoch:  18 / 20 | Batch  0 / 843 | Loss: 0.1120\n",
      "Epoch:  18 / 20 | Batch  100 / 843 | Loss: 0.0918\n",
      "Epoch:  18 / 20 | Batch  200 / 843 | Loss: 0.1731\n",
      "Epoch:  18 / 20 | Batch  300 / 843 | Loss: 0.0967\n",
      "Epoch:  18 / 20 | Batch  400 / 843 | Loss: 0.1971\n",
      "Epoch:  18 / 20 | Batch  500 / 843 | Loss: 0.0831\n",
      "Epoch:  18 / 20 | Batch  600 / 843 | Loss: 0.2767\n",
      "Epoch:  18 / 20 | Batch  700 / 843 | Loss: 0.0666\n",
      "Epoch:  18 / 20 | Batch  800 / 843 | Loss: 0.2113\n",
      "Epoch:  18 / 20 | Train: 98.82% | Validation: 98.07%\n",
      "Time elapsed:  10.685632753372193  min\n",
      "Epoch:  19 / 20 | Batch  0 / 843 | Loss: 0.0718\n",
      "Epoch:  19 / 20 | Batch  100 / 843 | Loss: 0.3796\n",
      "Epoch:  19 / 20 | Batch  200 / 843 | Loss: 0.1030\n",
      "Epoch:  19 / 20 | Batch  300 / 843 | Loss: 0.0388\n",
      "Epoch:  19 / 20 | Batch  400 / 843 | Loss: 0.2377\n",
      "Epoch:  19 / 20 | Batch  500 / 843 | Loss: 0.2280\n",
      "Epoch:  19 / 20 | Batch  600 / 843 | Loss: 0.0850\n",
      "Epoch:  19 / 20 | Batch  700 / 843 | Loss: 0.0582\n",
      "Epoch:  19 / 20 | Batch  800 / 843 | Loss: 0.1264\n",
      "Epoch:  19 / 20 | Train: 98.85% | Validation: 98.00%\n",
      "Time elapsed:  11.27281510035197  min\n",
      "Epoch:  20 / 20 | Batch  0 / 843 | Loss: 0.1113\n",
      "Epoch:  20 / 20 | Batch  100 / 843 | Loss: 0.0639\n",
      "Epoch:  20 / 20 | Batch  200 / 843 | Loss: 0.0792\n",
      "Epoch:  20 / 20 | Batch  300 / 843 | Loss: 0.0498\n",
      "Epoch:  20 / 20 | Batch  400 / 843 | Loss: 0.0787\n",
      "Epoch:  20 / 20 | Batch  500 / 843 | Loss: 0.0708\n",
      "Epoch:  20 / 20 | Batch  600 / 843 | Loss: 0.1481\n",
      "Epoch:  20 / 20 | Batch  700 / 843 | Loss: 0.0516\n",
      "Epoch:  20 / 20 | Batch  800 / 843 | Loss: 0.1654\n",
      "Epoch:  20 / 20 | Train: 98.89% | Validation: 98.08%\n",
      "Time elapsed:  11.865358706315359  min\n",
      "Total Training Time: 11.87 min\n",
      "Test accuracy 97.77%\n"
     ]
    }
   ],
   "source": [
    "start_time = time.time()\n",
    "minibatch_loss_list, train_acc_list, valid_acc_list = [], [], []\n",
    "for epoch in range(NUM_EPOCHS):\n",
    "    model.train()\n",
    "    for batch_idx, (features, targets) in enumerate(train_loader):\n",
    "        features = features.to(DEVICE)\n",
    "        targets = targets.to(DEVICE)\n",
    "        # ## FORWARD AND BACK PROP\n",
    "        logits = model(features)\n",
    "        #loss = F.cross_entropy(logits, targets)\n",
    "        loss = criterion(logits, targets)\n",
    "        optimizer.zero_grad()\n",
    "        loss.backward()\n",
    "        # ## UPDATE MODEL PARAMETERS\n",
    "        optimizer.step()\n",
    "        # ## LOGGING\n",
    "        minibatch_loss_list.append(loss.item())\n",
    "        logging_interval = 100\n",
    "        if not batch_idx % logging_interval:\n",
    "            print(\"Epoch: \", epoch+1,\"/\", NUM_EPOCHS,\"| Batch \",batch_idx,\"/\",len(train_loader), f'| Loss: {loss:.4f}')\n",
    "    model.eval()\n",
    "    with torch.no_grad(): # save memory during inference\n",
    "        train_acc = compute_accuracy(train_loader)\n",
    "        valid_acc = compute_accuracy(valid_loader) \n",
    "        print(\"Epoch: \", epoch+1, \"/\",NUM_EPOCHS,f'| Train: {train_acc :.2f}% 'f'| Validation: {valid_acc :.2f}%') \n",
    "        train_acc_list.append(train_acc.item())\n",
    "        valid_acc_list.append(valid_acc.item())\n",
    "    elapsed = (time.time() - start_time)/60\n",
    "    print(\"Time elapsed: \",elapsed, \" min\")\n",
    "    scheduler.step(minibatch_loss_list[-1])\n",
    "elapsed = (time.time() - start_time)/60\n",
    "print(f'Total Training Time: {elapsed:.2f} min')\n",
    "test_acc = compute_accuracy(test_loader)\n",
    "print(f'Test accuracy {test_acc :.2f}%')"
   ]
  },
  {
   "cell_type": "code",
   "execution_count": 26,
   "id": "490465a6",
   "metadata": {},
   "outputs": [
    {
     "data": {
      "text/plain": [
       "Text(0, 0.5, 'Loss')"
      ]
     },
     "execution_count": 26,
     "metadata": {},
     "output_type": "execute_result"
    },
    {
     "data": {
      "image/png": "[encoded data removed]",
      "text/plain": [
       "<Figure size 432x288 with 1 Axes>"
      ]
     },
     "metadata": {
      "needs_background": "light"
     },
     "output_type": "display_data"
    }
   ],
   "source": [
    "import matplotlib.pyplot as plt\n",
    "plt.plot(range(len(minibatch_loss_list)), minibatch_loss_list)\n",
    "plt.xlabel('Iterations')\n",
    "plt.ylabel('Loss')"
   ]
  },
  {
   "cell_type": "code",
   "execution_count": 27,
   "id": "224aa415",
   "metadata": {},
   "outputs": [
    {
     "data": {
      "text/plain": [
       "<matplotlib.legend.Legend at 0x1a68100ec70>"
      ]
     },
     "execution_count": 27,
     "metadata": {},
     "output_type": "execute_result"
    },
    {
     "data": {
      "image/png": "[encoded data removed]",
      "text/plain": [
       "<Figure size 432x288 with 1 Axes>"
      ]
     },
     "metadata": {
      "needs_background": "light"
     },
     "output_type": "display_data"
    }
   ],
   "source": [
    "import numpy as np\n",
    "num_epochs = len(train_acc_list)\n",
    "plt.plot(np.arange(1, num_epochs+1),\n",
    "train_acc_list, label='Training')\n",
    "plt.plot(np.arange(1, num_epochs+1),\n",
    "valid_acc_list, label='Validation')\n",
    "plt.xlabel('Epoch')\n",
    "plt.ylabel('Accuracy')\n",
    "plt.legend()"
   ]
  },
  {
   "cell_type": "code",
   "execution_count": null,
   "id": "0e814d35",
   "metadata": {},
   "outputs": [],
   "source": []
  }
 ],
 "metadata": {
  "kernelspec": {
   "display_name": "Python 3 (ipykernel)",
   "language": "python",
   "name": "python3"
  },
  "language_info": {
   "codemirror_mode": {
    "name": "ipython",
    "version": 3
   },
   "file_extension": ".py",
   "mimetype": "text/x-python",
   "name": "python",
   "nbconvert_exporter": "python",
   "pygments_lexer": "ipython3",
   "version": "3.11.4"
  }
 },
 "nbformat": 4,
 "nbformat_minor": 5
}
